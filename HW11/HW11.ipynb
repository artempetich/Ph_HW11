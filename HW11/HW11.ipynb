{
 "cells": [
  {
   "cell_type": "code",
   "execution_count": 1,
   "id": "36f48ed3",
   "metadata": {},
   "outputs": [],
   "source": [
    "\n",
    "# f(x) = -12x^4*sin(cos(x)) - 18x^3+5x^2 + 10x - 30\n",
    "# производная - 12*x**4·np.sin(x)·np.cos(np.cos(x)) - 48*x**3*np.sin(np.cos(x)) - 54*x*2 + 10*x + 10\n",
    "# Определить корни+\n",
    "# Найти интервалы, на которых функция возрастает+\n",
    "# Найти интервалы, на которых функция убывает+\n",
    "# Построить график +\n",
    "# Вычислить вершину +\n",
    "# Определить промежутки, на котором f > 0\n",
    "# Определить промежутки, на котором f < 0\n",
    "\n",
    "#функция имеет бесконечное множество корней - но мы можем найти корни на нужном нам промежутке\n"
   ]
  },
  {
   "cell_type": "code",
   "execution_count": 2,
   "id": "c6d5d59a",
   "metadata": {},
   "outputs": [],
   "source": [
    "import numpy as np\n",
    "import matplotlib.pyplot as plt"
   ]
  },
  {
   "cell_type": "code",
   "execution_count": 3,
   "id": "256fd648",
   "metadata": {},
   "outputs": [],
   "source": [
    "limit1 = -10\n",
    "limit2 = 10\n",
    "step = 0.001"
   ]
  },
  {
   "cell_type": "code",
   "execution_count": 4,
   "id": "9edc50d8",
   "metadata": {},
   "outputs": [],
   "source": [
    "a, b, c, d, e = -12, -18, 5, 10, -30 \n",
    "\n",
    "x = np.arange(limit1, limit2, step)"
   ]
  },
  {
   "cell_type": "code",
   "execution_count": 5,
   "id": "09687361",
   "metadata": {},
   "outputs": [],
   "source": [
    "def func(x) -> tuple:\n",
    "       return a*x**4*np.sin(np.cos(x)) + b*x**3 + c*x**2 + d*x + e\n",
    "    "
   ]
  },
  {
   "cell_type": "code",
   "execution_count": 6,
   "id": "cc61be73",
   "metadata": {},
   "outputs": [],
   "source": [
    "roots1 = []"
   ]
  },
  {
   "cell_type": "code",
   "execution_count": 7,
   "id": "2e18a5d3",
   "metadata": {},
   "outputs": [],
   "source": [
    "# приравнять к нулю сложно тк числа получаются float поэтому \n",
    "# мы смотрим где функция меняет знак и ищем приблизительное значение"
   ]
  },
  {
   "cell_type": "code",
   "execution_count": 8,
   "id": "0d157baf",
   "metadata": {},
   "outputs": [],
   "source": [
    "def take_roots(a, b, c, d, e):\n",
    "    roots1 = []\n",
    "    go_up_down = False\n",
    "    for x_range in x:\n",
    "        if go_up_down:\n",
    "            if func(x_range) >= 0:\n",
    "                root = np.round(x_range)\n",
    "                roots1.append(root)\n",
    "                go_up_down = False\n",
    "  \n",
    "        else:\n",
    "            if func(x_range) <= 0:\n",
    "                root = np.round(x_range)\n",
    "                roots1.append(root)\n",
    "                go_up_down = True\n",
    "\n",
    "    return roots1"
   ]
  },
  {
   "cell_type": "code",
   "execution_count": 9,
   "id": "80624a47",
   "metadata": {},
   "outputs": [],
   "source": [
    "roots1 = take_roots(a, b, c, d, e)"
   ]
  },
  {
   "cell_type": "code",
   "execution_count": 10,
   "id": "dc20b2d0",
   "metadata": {},
   "outputs": [],
   "source": [
    "zero1 = []"
   ]
  },
  {
   "cell_type": "code",
   "execution_count": 11,
   "id": "0208e5ec",
   "metadata": {},
   "outputs": [
    {
     "name": "stdout",
     "output_type": "stream",
     "text": [
      "[-7.7, -5.0, -1.0, 2.0, 4.0, 8.0]\n"
     ]
    }
   ],
   "source": [
    "roots1[0] = -7.7\n",
    "print(roots1)"
   ]
  },
  {
   "cell_type": "code",
   "execution_count": 12,
   "id": "0989641e",
   "metadata": {},
   "outputs": [
    {
     "name": "stdout",
     "output_type": "stream",
     "text": [
      "[0, 0, 0, 0, 0, 0]\n"
     ]
    }
   ],
   "source": [
    "def roots_list():\n",
    "    zero =[]\n",
    "    for i in range(len(roots1)):\n",
    "        zero.append(0)\n",
    "    return zero\n",
    "zero1 = roots_list()\n",
    "print(zero1)"
   ]
  },
  {
   "cell_type": "code",
   "execution_count": 13,
   "id": "605486b4",
   "metadata": {},
   "outputs": [],
   "source": [
    "extremums1 = []\n",
    "extremums2 = []"
   ]
  },
  {
   "cell_type": "code",
   "execution_count": 14,
   "id": "4e7f81c6",
   "metadata": {},
   "outputs": [],
   "source": [
    "#производная - пока что только для нашей функции. Экстремумы там, где производная равна нулю."
   ]
  },
  {
   "cell_type": "code",
   "execution_count": 15,
   "id": "a68034bc",
   "metadata": {},
   "outputs": [],
   "source": [
    "def derivative(x) -> tuple:\n",
    "    return 12*x**4*np.sin(x)*np.cos(np.cos(x)) - 48*x**3*np.sin(np.cos(x)) - 54*x*2 + 10*x + 10"
   ]
  },
  {
   "cell_type": "code",
   "execution_count": 16,
   "id": "a09fdd1b",
   "metadata": {},
   "outputs": [
    {
     "name": "stdout",
     "output_type": "stream",
     "text": [
      "[-10.0, -7.0, -4.0, -2.0, 0.0, 2.0, 4.0, 7.0, 10.0]\n"
     ]
    }
   ],
   "source": [
    "def extremum():\n",
    "    extremums = []\n",
    "    extr = 0\n",
    "    go_up_down = False\n",
    "    for x_range in x:\n",
    "        if go_up_down:\n",
    "            if derivative(x_range) >= 0:\n",
    "                extr = np.round(x_range)\n",
    "                extremums.append(extr)\n",
    "                go_up_down = False  \n",
    "        else:\n",
    "            if derivative(x_range) <= 0:\n",
    "                extr = np.round(x_range)\n",
    "                extremums.append(extr)\n",
    "                go_up_down = True\n",
    "\n",
    "    return extremums\n",
    "   \n",
    "extremums1 = extremum()\n",
    "print(extremums1)"
   ]
  },
  {
   "cell_type": "code",
   "execution_count": 17,
   "id": "3516b04a",
   "metadata": {},
   "outputs": [],
   "source": [
    "#создаем список значений у экстремумов"
   ]
  },
  {
   "cell_type": "code",
   "execution_count": 18,
   "id": "c87c4729",
   "metadata": {},
   "outputs": [
    {
     "name": "stdout",
     "output_type": "stream",
     "text": [
      "[107653.0, -13402.0, 3030.0, 192.0, -30.0, -56.0, 806.0, -25610.0, 71853.0]\n"
     ]
    }
   ],
   "source": [
    "def x_y_extremum(a, b, c, d, e):\n",
    "    for i in extremums1:\n",
    "        temp = np.round(func(i))\n",
    "        extremums2.append(temp)\n",
    "    return extremums2\n",
    "extremums2 = x_y_extremum(a, b, c, d, e)\n",
    "print(extremums2)"
   ]
  },
  {
   "cell_type": "code",
   "execution_count": 19,
   "id": "b757500e",
   "metadata": {},
   "outputs": [
    {
     "name": "stdout",
     "output_type": "stream",
     "text": [
      "[array([-7.7  , -7.699, -7.698, ..., -5.003, -5.002, -5.001]), array([-1.   , -0.999, -0.998, ...,  1.997,  1.998,  1.999]), array([4.   , 4.001, 4.002, ..., 7.997, 7.998, 7.999])]\n"
     ]
    }
   ],
   "source": [
    "x_down_list = []\n",
    "x_up_list = []\n",
    "x_neg_list = []\n",
    "for i in range(0, len(extremums1)-1, 2):\n",
    "    x_down = np.arange(extremums1[i], extremums1[i+1], step)\n",
    "    x_down_list.append(x_down)\n",
    "for i in range(1, len(extremums1), 2):\n",
    "    x_up = np.arange(extremums1[i], extremums1[i+1], step)\n",
    "    x_up_list.append(x_up)\n",
    "for i in range(0,len(roots1)-1, 2):\n",
    "    x_neg = np.arange(roots1[i], roots1[i+1], step)\n",
    "    x_neg_list.append(x_neg)\n",
    "\n",
    "print(x_neg_list)"
   ]
  },
  {
   "cell_type": "code",
   "execution_count": 20,
   "id": "871c84bc",
   "metadata": {},
   "outputs": [],
   "source": [
    "# plt.rcParams['lines.linestyle'] = '--'\n",
    "# plt.plot(x_down, func(x_down), 'b')\n",
    "# plt.plot(x_down1, func(x_down1), 'b')\n",
    "# plt.plot(x_down2, func(x_down2), 'b')\n",
    "# plt.plot(x_down3, func(x_down3), 'b')\n",
    "# plt.rcParams['lines.linestyle'] = '-.'\n",
    "# plt.plot(x_up, func(x_up), 'r')\n",
    "# plt.plot(x_up1, func(x_up1), 'r')\n",
    "# plt.plot(x_up2, func(x_up2), 'r')\n",
    "# plt.plot(x_up3, func(x_up3), 'r')\n",
    "# label1 = \"Возрастание\"\n",
    "# label2 = \"Убывание\"\n",
    "# label3 = \"Меньше нуля\""
   ]
  },
  {
   "cell_type": "code",
   "execution_count": 21,
   "id": "14f3db6f",
   "metadata": {},
   "outputs": [
    {
     "data": {
      "image/png": "[encoded data removed]",
      "text/plain": [
       "<Figure size 640x480 with 1 Axes>"
      ]
     },
     "metadata": {},
     "output_type": "display_data"
    }
   ],
   "source": [
    "plt.rcParams['lines.linestyle'] = '--'\n",
    "\n",
    "for i in range(0, len(x_down_list)):\n",
    "    plt.plot(x_down_list[i], func(x_down_list[i]), 'b')\n",
    "           \n",
    "plt.rcParams['lines.linestyle'] = '-.'\n",
    "for i in range(0, len(x_up_list)):\n",
    "\n",
    "    plt.plot(x_up_list[i], func(x_up_list[i]), 'r')\n",
    "    \n",
    "plt.rcParams['lines.linestyle'] = '--'\n",
    "for i in range(0, len(x_neg_list)):\n",
    "    plt.plot(x_neg_list[i], func(x_neg_list[i]), 'c')\n",
    "\n",
    "plt.plot(roots1, zero1, 'yo', label =\"Корни\")\n",
    "plt.plot(extremums1, extremums2, 'gx', label =\"Экстремумы\")\n",
    "plt.legend()\n",
    "plt.grid()\n",
    "plt.show()"
   ]
  },
  {
   "cell_type": "code",
   "execution_count": null,
   "id": "7fe6752e",
   "metadata": {},
   "outputs": [],
   "source": []
  }
 ],
 "metadata": {
  "kernelspec": {
   "display_name": "Python 3 (ipykernel)",
   "language": "python",
   "name": "python3"
  },
  "language_info": {
   "codemirror_mode": {
    "name": "ipython",
    "version": 3
   },
   "file_extension": ".py",
   "mimetype": "text/x-python",
   "name": "python",
   "nbconvert_exporter": "python",
   "pygments_lexer": "ipython3",
   "version": "3.9.13"
  }
 },
 "nbformat": 4,
 "nbformat_minor": 5
}
